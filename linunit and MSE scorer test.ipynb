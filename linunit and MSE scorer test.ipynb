{
 "cells": [
  {
   "cell_type": "markdown",
   "metadata": {},
   "source": [
    "# Testing the linUnit and MSEScorer Modules\n",
    "\n",
    "Since an exact solution to ordinary least squares exists, we can test our gradient descent method against the true solution."
   ]
  },
  {
   "cell_type": "code",
   "execution_count": 4,
   "metadata": {},
   "outputs": [],
   "source": [
    "import numpy as np\n",
    "import pandas as pd\n",
    "from babynn import linUnit\n",
    "from babynn import MSEScorer"
   ]
  },
  {
   "cell_type": "code",
   "execution_count": 7,
   "metadata": {},
   "outputs": [],
   "source": [
    "# create some test data\n",
    "# note that the first coordinate of each entry is a dummy 1\n",
    "\n",
    "X = np.array([[1,2,3],[1,-1,3],[1,2,10],[1,-1,10],[1,-14,2]])\n",
    "Y = np.array([6,2.5,7,9,-10])\n",
    "\n",
    "# initialize the linunit and scorer\n",
    "\n",
    "test_mat = linUnit(0.01, 2, 1)\n",
    "score = MSEScorer()"
   ]
  },
  {
   "cell_type": "code",
   "execution_count": 10,
   "metadata": {},
   "outputs": [
    {
     "name": "stdout",
     "output_type": "stream",
     "text": [
      "[[0.89956505 0.57274086]]\n",
      "[1.85160728]\n"
     ]
    }
   ],
   "source": [
    "# train the liunit via gradient descent\n",
    "\n",
    "for e in range(0,3000):\n",
    "    scores = []\n",
    "    for i in range(X.shape[0]):\n",
    "        foo = test_mat.forward(X[i][1:])\n",
    "        scores.append(score.forward(foo, Y[i]))\n",
    "        test_mat.backprop(score.backprop(1))\n",
    "    test_mat.update()\n",
    "    #print(\"Average score: \", np.array(scores).mean())\n",
    "    \n",
    "# and print the results\n",
    "print(test_mat.W)\n",
    "print(test_mat.b)"
   ]
  },
  {
   "cell_type": "code",
   "execution_count": 9,
   "metadata": {},
   "outputs": [
    {
     "data": {
      "text/plain": [
       "matrix([[1.85160728],\n",
       "        [0.89956505],\n",
       "        [0.57274086]])"
      ]
     },
     "execution_count": 9,
     "metadata": {},
     "output_type": "execute_result"
    }
   ],
   "source": [
    "# find the exact solution\n",
    "\n",
    "Xmat = np.matrix(X)\n",
    "betahat = np.linalg.inv(Xmat.T*Xmat)*Xmat.T*np.matrix(Y).T\n",
    "betahat"
   ]
  },
  {
   "cell_type": "markdown",
   "metadata": {},
   "source": [
    "Since the dummy 1 was placed on the first coordinate, the first entry of this array is the intercept, which agrees with the b from above. The second two coefficients agree with the coefficients of the gradient descent output, so the test is a success!"
   ]
  },
  {
   "cell_type": "code",
   "execution_count": null,
   "metadata": {},
   "outputs": [],
   "source": []
  }
 ],
 "metadata": {
  "kernelspec": {
   "display_name": "Python 3",
   "language": "python",
   "name": "python3"
  },
  "language_info": {
   "codemirror_mode": {
    "name": "ipython",
    "version": 3
   },
   "file_extension": ".py",
   "mimetype": "text/x-python",
   "name": "python",
   "nbconvert_exporter": "python",
   "pygments_lexer": "ipython3",
   "version": "3.7.3"
  }
 },
 "nbformat": 4,
 "nbformat_minor": 2
}
